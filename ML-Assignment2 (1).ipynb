{
 "cells": [
  {
   "cell_type": "code",
   "execution_count": 1,
   "id": "57cf5c5d",
   "metadata": {},
   "outputs": [
    {
     "name": "stdout",
     "output_type": "stream",
     "text": [
      "* \r\n",
      "* * \r\n",
      "* * * \r\n",
      "* * * * \r\n",
      "* * * * * \r\n",
      "* * * * \r\n",
      "* * * \r\n",
      "* * \r\n",
      "* \r\n",
      "\r\n"
     ]
    }
   ],
   "source": [
    "rows = 5                         #no.of rows\n",
    "for i in range(0, rows):            #loop for no.of rows\n",
    "    for j in range(0, i + 1):     #loop for no.of columns\n",
    "        print(\"*\", end=' ')         #printing stars\n",
    "    print(\"\\r\")                     \n",
    "\n",
    "for i in range(rows, 0, -1):\n",
    "    for j in range(0, i - 1):\n",
    "        print(\"*\", end=' ')              \n",
    "    print(\"\\r\")                      #ending line after each row"
   ]
  },
  {
   "cell_type": "code",
   "execution_count": 23,
   "id": "f5528e35",
   "metadata": {},
   "outputs": [
    {
     "name": "stdout",
     "output_type": "stream",
     "text": [
      "20 40 60 80 100 "
     ]
    }
   ],
   "source": [
    "my_list = [10, 20, 30, 40, 50, 60, 70, 80, 90, 100]      # start from index 1\n",
    "for i in range(1, len(my_list), 2):                  #to display odd index values\n",
    "   print(my_list[i], end=\" \")               #printing list"
   ]
  },
  {
   "cell_type": "code",
   "execution_count": 8,
   "id": "a3b0f98a",
   "metadata": {},
   "outputs": [
    {
     "name": "stdout",
     "output_type": "stream",
     "text": [
      "[23, 'Python', 23.98]\n",
      "[<class 'int'>, <class 'str'>, <class 'float'>]\n"
     ]
    }
   ],
   "source": [
    "# Append a list with types of elements\n",
    "n = [23, 'Python',23.98]                  #given list\n",
    "x = []                               \n",
    "for i in range(len(n)):               #using append to add               \n",
    "    x.append(type(n[i]))              \n",
    "print(n)                   #printing n\n",
    "print(x)                      #printing x"
   ]
  },
  {
   "cell_type": "code",
   "execution_count": 16,
   "id": "2b49029b",
   "metadata": {},
   "outputs": [
    {
     "name": "stdout",
     "output_type": "stream",
     "text": [
      "[1, 2, 3, 4, 5]\n"
     ]
    }
   ],
   "source": [
    "def unique_list(l):                               #using unique\n",
    "  x = []\n",
    "  for a in l:                            #for loop\n",
    "    if a not in x: \n",
    "      x.append(a)\n",
    "  return x\n",
    "\n",
    "print(unique_list([1,2,3,3,3,3,4,5]))      #printing list"
   ]
  },
  {
   "cell_type": "code",
   "execution_count": 17,
   "id": "a0352e94",
   "metadata": {},
   "outputs": [
    {
     "name": "stdout",
     "output_type": "stream",
     "text": [
      "Original String :  The quick Brow Fox\n",
      "No.of Upper case characters :  3\n",
      "No.of Lower case Characters :  12\n"
     ]
    }
   ],
   "source": [
    "def string_test(s):                                     \n",
    "    d={\"UPPER_CASE\":0, \"LOWER_CASE\":0}       #intialization\n",
    "    for c in s:\n",
    "        if c.isupper():                           \n",
    "           d[\"UPPER_CASE\"]+=1                             #if it is uppercase increment the value\n",
    "        elif c.islower():\n",
    "           d[\"LOWER_CASE\"]+=1\n",
    "        else:\n",
    "           pass\n",
    "    print (\"Original String : \", s)                                   #printing the string\n",
    "    print (\"No.of Upper case characters : \", d[\"UPPER_CASE\"])         #printing upper case\n",
    "    print (\"No.of Lower case Characters : \", d[\"LOWER_CASE\"])         #printing lower case\n",
    "\n",
    "string_test('The quick Brow Fox')"
   ]
  }
 ],
 "metadata": {
  "kernelspec": {
   "display_name": "Python 3 (ipykernel)",
   "language": "python",
   "name": "python3"
  },
  "language_info": {
   "codemirror_mode": {
    "name": "ipython",
    "version": 3
   },
   "file_extension": ".py",
   "mimetype": "text/x-python",
   "name": "python",
   "nbconvert_exporter": "python",
   "pygments_lexer": "ipython3",
   "version": "3.9.13"
  }
 },
 "nbformat": 4,
 "nbformat_minor": 5
}
